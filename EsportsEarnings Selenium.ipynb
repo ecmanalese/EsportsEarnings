{
 "cells": [
  {
   "cell_type": "code",
   "execution_count": 37,
   "metadata": {},
   "outputs": [
    {
     "name": "stdout",
     "output_type": "stream",
     "text": [
      "['Denmark', 'Finland', 'Australia', 'France', 'Finland', 'Russian Federation', 'Russian Federation', 'Ukraine', 'Ukraine', 'Germany', 'Jordan', 'Finland', 'Bulgaria', 'Russian Federation', 'Estonia', 'Lebanon', 'Sweden', 'China', 'Pakistan', 'China', 'China', 'United States', 'Poland', 'North Macedonia', 'China', 'China', 'Denmark', 'United States', 'Israel', 'United States', 'United States', 'Israel', 'Sweden', 'Slovakia', 'Canada', 'United States', 'China', 'Jordan', 'Romania', 'China', 'Denmark', 'Russian Federation', 'Austria', 'Malaysia', 'Canada', 'Ukraine', 'Denmark', 'Germany', 'Denmark', 'China', 'Russian Federation', 'Denmark', 'China', 'Denmark', 'China', 'Sweden', 'Sweden', 'Sweden', 'China', 'United States', 'China', 'Denmark', 'Malaysia', 'Denmark', 'United States', 'China', 'Malaysia', 'China', 'Australia', 'United States', 'United States', 'United States', 'Ukraine', 'Korea, Republic of', 'Norway', 'Singapore', 'China', 'China', 'China', 'China', 'Canada', 'Russian Federation', 'Ukraine', 'China', 'Russian Federation', 'China', 'United States', 'Finland', 'China', 'Russian Federation', 'France', 'Bosnia and Herzegovina', 'China', 'Denmark', 'China', 'Estonia', 'Norway', 'China', 'China', 'China']\n",
      "['N0tail', 'JerAx', 'ana', 'Ceb', 'Topson', 'Miposhka', 'Collapse', 'Yatoro', 'Mira', 'KuroKy', 'Miracle-', 'Matumbaman', 'MinD_ContRoL', 'TORONTOTOKYO', 'Puppey', 'GH', 'Zai', 'Ame', 'SumaiL', 'y`', 'Faith_bian', 'Bugha', 'Nisha', 'Saksa', 'Somnus', 'fy', 'Cr1t', 'Sneyking', '33', 'UNiVeRsE', 'ppd', 'Fly', 's4', 'Skiter', 'Arteezy', 'Fear', 'KaKa', 'YapzOr', 'w33', 'XinQ', 'dupreeh', 'RAMZES666', 'Aqua', 'xNova', 'Aui_2000', 'Resolut1on', 'dev1ce', 'Nine', 'karrigan', 'Chalice', 'Solo', 'Ace', 'iceice', 'Xyp9x', 'Shadow', 'Boxi', 'iNsania', 'miCKE', 'bLink', 'psalm', 'HuaHai', 'Magisk', 'NothingToSay', 'gla1ve', 'aBeZy', 'xiao8', 'MidOne', 'Yinuo', 'kpii', 'Quinn', 'EpikWhale', 'Simp', 'Noone', 'Faker', 'rain', 'iceiceice', 'Fly', 'Faith', 'Super', 'Hao', 'Twistzz', '9pasha', 's1mple', 'Cat', 'Larl', 'Pang', 'Cellium', 'Serral', '1dao', 'electroNic', 'apEX', 'NiKo', 'Yu', 'Anas', 'old eLeVeN', 'ropz', 'Nyhrox', 'Monet', 'QingRong', 'LaNm']\n",
      "['$7,184,163.05', '$6,486,623.98', '$6,024,411.96', '$5,945,842.73', '$5,898,810.60', '$5,876,771.49', '$5,589,111.07', '$5,581,736.05', '$5,562,899.05', '$5,295,698.85', '$4,910,585.26', '$4,873,086.24', '$4,703,532.25', '$4,457,863.50', '$4,342,228.38', '$4,327,887.60', '$4,292,756.02', '$4,238,479.27', '$4,098,389.31', '$3,997,742.20', '$3,907,981.98', '$3,743,525.05', '$3,591,426.48', '$3,312,777.85', '$3,311,808.66', '$3,159,545.98', '$3,122,762.51', '$3,077,862.92', '$3,067,145.70', '$3,057,237.67', '$3,029,331.36', '$2,872,570.06', '$2,749,194.70', '$2,726,826.48', '$2,714,369.91', '$2,564,904.63', '$2,548,691.89', '$2,298,690.64', '$2,294,325.43', '$2,251,760.44', '$2,225,525.08', '$2,207,611.08', '$2,197,375.23', '$2,143,091.12', '$2,073,582.54', '$2,063,162.95', '$2,057,714.98', '$2,055,260.94', '$2,052,902.62', '$2,040,114.72', '$2,035,398.01', '$2,011,317.11', '$2,005,164.63', '$2,003,061.83', '$1,982,030.82', '$1,978,343.66', '$1,976,759.69', '$1,972,336.42', '$1,960,761.59', '$1,959,500.00', '$1,941,993.39', '$1,930,723.63', '$1,927,694.93', '$1,926,412.09', '$1,877,655.68', '$1,877,518.06', '$1,876,531.44', '$1,871,202.59', '$1,865,667.57', '$1,863,470.27', '$1,838,487.32', '$1,825,078.33', '$1,824,799.78', '$1,816,084.56', '$1,813,516.24', '$1,812,855.42', '$1,767,497.60', '$1,764,633.21', '$1,764,310.33', '$1,761,674.53', '$1,759,193.10', '$1,733,385.13', '$1,719,755.32', '$1,716,947.58', '$1,696,224.07', '$1,682,659.41', '$1,669,298.93', '$1,657,260.57', '$1,656,199.27', '$1,637,675.34', '$1,635,789.47', '$1,633,260.15', '$1,626,161.52', '$1,622,990.05', '$1,570,503.07', '$1,550,827.41', '$1,543,145.69', '$1,535,720.98', '$1,535,223.32', '$1,529,400.71']\n",
      "['$7,172,436.83', '$6,486,075.22', '$6,024,411.96', '$5,945,842.73', '$5,898,810.60', '$5,876,771.49', '$5,589,111.07', '$5,581,736.05', '$5,562,899.05', '$5,293,199.59', '$4,910,585.26', '$4,873,086.24', '$4,703,532.25', '$4,457,863.50', '$4,340,494.79', '$4,327,887.60', '$4,272,661.31', '$4,238,479.27', '$4,098,389.31', '$3,997,742.20', '$3,907,981.98', '$3,730,858.38', '$3,591,426.48', '$3,312,777.85', '$3,311,808.66', '$3,159,545.98', '$3,122,762.51', '$3,076,862.92', '$3,067,145.70', '$3,057,237.67', '$3,001,619.62', '$2,855,155.16', '$2,744,135.93', '$2,726,826.48', '$2,714,369.91', '$2,562,957.34', '$2,548,691.89', '$2,298,690.64', '$2,294,325.43', '$2,251,760.44', '$2,181,525.08', '$2,207,611.08', '$2,192,375.23', '$2,143,091.12', '$2,073,582.54', '$2,063,162.95', '$1,981,892.22', '$2,055,260.94', '$1,651,752.06', '$2,040,114.72', '$2,035,398.01', '$2,011,317.11', '$2,005,164.63', '$2,001,391.93', '$1,982,030.82', '$1,936,321.96', '$1,925,725.05', '$1,924,268.63', '$1,960,761.59', '$1,874,588.80', '$1,941,993.39', '$1,881,123.63', '$1,927,694.93', '$1,869,687.10', '$483,750.00', '$1,870,077.43', '$1,876,531.44', '$1,871,202.59', '$1,865,667.57', '$1,862,170.27', '$1,838,487.32', '$500,833.33', '$1,824,799.78', '$1,816,084.56', '$1,444,216.24', '$1,810,455.42', '$1,767,497.60', '$1,746,056.72', '$1,744,279.68', '$1,755,233.44', '$1,546,793.10', '$1,733,385.13', '$1,718,355.32', '$1,716,947.58', '$1,696,224.07', '$1,682,659.41', '$488,750.00', '$1,657,260.57', '$1,656,199.27', '$1,558,058.67', '$1,298,119.05', '$1,301,037.58', '$1,626,161.52', '$1,622,990.05', '$1,570,503.07', '$1,181,527.41', '$1,543,145.69', '$1,535,720.98', '$1,535,223.32', '$1,528,948.03']\n",
      "['Dota 2', 'Dota 2', 'Dota 2', 'Dota 2', 'Dota 2', 'Dota 2', 'Dota 2', 'Dota 2', 'Dota 2', 'Dota 2', 'Dota 2', 'Dota 2', 'Dota 2', 'Dota 2', 'Dota 2', 'Dota 2', 'Dota 2', 'Dota 2', 'Dota 2', 'Dota 2', 'Dota 2', 'Fortnite', 'Dota 2', 'Dota 2', 'Dota 2', 'Dota 2', 'Dota 2', 'Dota 2', 'Dota 2', 'Dota 2', 'Dota 2', 'Dota 2', 'Dota 2', 'Dota 2', 'Dota 2', 'Dota 2', 'Dota 2', 'Dota 2', 'Dota 2', 'Dota 2', 'Counter-Strike: Global Offensive', 'Dota 2', 'Fortnite', 'Dota 2', 'Dota 2', 'Dota 2', 'Counter-Strike: Global Offensive', 'Dota 2', 'Counter-Strike: Global Offensive', 'Dota 2', 'Dota 2', 'Dota 2', 'Dota 2', 'Counter-Strike: Global Offensive', 'Dota 2', 'Dota 2', 'Dota 2', 'Dota 2', 'Dota 2', 'Fortnite', 'Arena of Valor', 'Counter-Strike: Global Offensive', 'Dota 2', 'Counter-Strike: Global Offensive', 'Call of Duty: Black Ops Cold War', 'Dota 2', 'Dota 2', 'Arena of Valor', 'Dota 2', 'Dota 2', 'Fortnite', 'Call of Duty: Black Ops Cold War', 'Dota 2', 'League of Legends', 'Counter-Strike: Global Offensive', 'Dota 2', 'Arena of Valor', 'Dota 2', 'Dota 2', 'Dota 2', 'Counter-Strike: Global Offensive', 'Dota 2', 'Counter-Strike: Global Offensive', 'Arena of Valor', 'Dota 2', 'Arena of Valor', 'Call of Duty: Black Ops Cold War', 'StarCraft II', 'Arena of Valor', 'Counter-Strike: Global Offensive', 'Counter-Strike: Global Offensive', 'Counter-Strike: Global Offensive', 'Arena of Valor', 'Fortnite', 'Dota 2', 'Counter-Strike: Global Offensive', 'Fortnite', 'Dota 2', 'Arena of Valor', 'Dota 2']\n"
     ]
    }
   ],
   "source": [
    "from selenium import webdriver\n",
    "from selenium.webdriver.common.keys import Keys\n",
    "from selenium.webdriver.common.by import By\n",
    "from selenium.webdriver.chrome.options import Options\n",
    "import pandas as pd\n",
    "\n",
    "chrome_options = Options()\n",
    "chrome_options.add_argument(\"--headless\")\n",
    "driver = webdriver.Chrome(options=chrome_options)\n",
    "\n",
    "driver.get('https://www.esportsearnings.com/players')\n",
    "\n",
    "country = driver.find_elements(By.CSS_SELECTOR,\"img[src*='/images/flags']\")\n",
    "\n",
    "players_country_list = []\n",
    "for i in range(len(country)):\n",
    "    players_country_list.append(country[i].get_attribute('title'))   \n",
    "\n",
    "players = driver.find_elements(By.CLASS_NAME,'detail_list_player')\n",
    "\n",
    "players_list = []\n",
    "for i in range(0, len(players), 2):\n",
    "    players_list.append(players[i].text)    \n",
    "\n",
    "earnings = driver.find_elements(By.CSS_SELECTOR,\"td[class*='detail_list_prize']\")\n",
    "\n",
    "earnings_total_overall_list = []\n",
    "for i in range(0, len(earnings), 3):\n",
    "    earnings_total_overall_list.append(earnings[i].text)\n",
    "\n",
    "earnings_from_highest_paying_game_list = []\n",
    "for i in range(1, len(earnings), 3):\n",
    "    earnings_from_highest_paying_game_list.append(earnings[i].text)\n",
    "\n",
    "game = driver.find_elements(By.CLASS_NAME,'detail_list_game')\n",
    "\n",
    "highest_paying_game_list = []\n",
    "for i in range(len(game)):\n",
    "    highest_paying_game_list.append(game[i].text)\n",
    "\n",
    "print(players_country_list)\n",
    "print(players_list)\n",
    "print(earnings_total_overall_list)\n",
    "print(earnings_from_highest_paying_game_list)\n",
    "print(highest_paying_game_list)\n"
   ]
  },
  {
   "cell_type": "code",
   "execution_count": 48,
   "metadata": {},
   "outputs": [
    {
     "name": "stdout",
     "output_type": "stream",
     "text": [
      "[('N0tail', 'Denmark', 7184163.05, 7172436.83, 'Dota 2'), ('JerAx', 'Finland', 6486623.98, 6486075.22, 'Dota 2'), ('ana', 'Australia', 6024411.96, 6024411.96, 'Dota 2'), ('Ceb', 'France', 5945842.73, 5945842.73, 'Dota 2'), ('Topson', 'Finland', 5898810.6, 5898810.6, 'Dota 2'), ('Miposhka', 'Russian Federation', 5876771.49, 5876771.49, 'Dota 2'), ('Collapse', 'Russian Federation', 5589111.07, 5589111.07, 'Dota 2'), ('Yatoro', 'Ukraine', 5581736.05, 5581736.05, 'Dota 2'), ('Mira', 'Ukraine', 5562899.05, 5562899.05, 'Dota 2'), ('KuroKy', 'Germany', 5295698.85, 5293199.59, 'Dota 2'), ('Miracle-', 'Jordan', 4910585.26, 4910585.26, 'Dota 2'), ('Matumbaman', 'Finland', 4873086.24, 4873086.24, 'Dota 2'), ('MinD_ContRoL', 'Bulgaria', 4703532.25, 4703532.25, 'Dota 2'), ('TORONTOTOKYO', 'Russian Federation', 4457863.5, 4457863.5, 'Dota 2'), ('Puppey', 'Estonia', 4342228.38, 4340494.79, 'Dota 2'), ('GH', 'Lebanon', 4327887.6, 4327887.6, 'Dota 2'), ('Zai', 'Sweden', 4292756.02, 4272661.31, 'Dota 2'), ('Ame', 'China', 4238479.27, 4238479.27, 'Dota 2'), ('SumaiL', 'Pakistan', 4098389.31, 4098389.31, 'Dota 2'), ('y`', 'China', 3997742.2, 3997742.2, 'Dota 2'), ('Faith_bian', 'China', 3907981.98, 3907981.98, 'Dota 2'), ('Bugha', 'United States', 3743525.05, 3730858.38, 'Fortnite'), ('Nisha', 'Poland', 3591426.48, 3591426.48, 'Dota 2'), ('Saksa', 'North Macedonia', 3312777.85, 3312777.85, 'Dota 2'), ('Somnus', 'China', 3311808.66, 3311808.66, 'Dota 2'), ('fy', 'China', 3159545.98, 3159545.98, 'Dota 2'), ('Cr1t', 'Denmark', 3122762.51, 3122762.51, 'Dota 2'), ('Sneyking', 'United States', 3077862.92, 3076862.92, 'Dota 2'), ('33', 'Israel', 3067145.7, 3067145.7, 'Dota 2'), ('UNiVeRsE', 'United States', 3057237.67, 3057237.67, 'Dota 2'), ('ppd', 'United States', 3029331.36, 3001619.62, 'Dota 2'), ('Fly', 'Israel', 2872570.06, 2855155.16, 'Dota 2'), ('s4', 'Sweden', 2749194.7, 2744135.93, 'Dota 2'), ('Skiter', 'Slovakia', 2726826.48, 2726826.48, 'Dota 2'), ('Arteezy', 'Canada', 2714369.91, 2714369.91, 'Dota 2'), ('Fear', 'United States', 2564904.63, 2562957.34, 'Dota 2'), ('KaKa', 'China', 2548691.89, 2548691.89, 'Dota 2'), ('YapzOr', 'Jordan', 2298690.64, 2298690.64, 'Dota 2'), ('w33', 'Romania', 2294325.43, 2294325.43, 'Dota 2'), ('XinQ', 'China', 2251760.44, 2251760.44, 'Dota 2'), ('dupreeh', 'Denmark', 2225525.08, 2181525.08, 'Counter-Strike: Global Offensive'), ('RAMZES666', 'Russian Federation', 2207611.08, 2207611.08, 'Dota 2'), ('Aqua', 'Austria', 2197375.23, 2192375.23, 'Fortnite'), ('xNova', 'Malaysia', 2143091.12, 2143091.12, 'Dota 2'), ('Aui_2000', 'Canada', 2073582.54, 2073582.54, 'Dota 2'), ('Resolut1on', 'Ukraine', 2063162.95, 2063162.95, 'Dota 2'), ('dev1ce', 'Denmark', 2057714.98, 1981892.22, 'Counter-Strike: Global Offensive'), ('Nine', 'Germany', 2055260.94, 2055260.94, 'Dota 2'), ('karrigan', 'Denmark', 2052902.62, 1651752.06, 'Counter-Strike: Global Offensive'), ('Chalice', 'China', 2040114.72, 2040114.72, 'Dota 2'), ('Solo', 'Russian Federation', 2035398.01, 2035398.01, 'Dota 2'), ('Ace', 'Denmark', 2011317.11, 2011317.11, 'Dota 2'), ('iceice', 'China', 2005164.63, 2005164.63, 'Dota 2'), ('Xyp9x', 'Denmark', 2003061.83, 2001391.93, 'Counter-Strike: Global Offensive'), ('Shadow', 'China', 1982030.82, 1982030.82, 'Dota 2'), ('Boxi', 'Sweden', 1978343.66, 1936321.96, 'Dota 2'), ('iNsania', 'Sweden', 1976759.69, 1925725.05, 'Dota 2'), ('miCKE', 'Sweden', 1972336.42, 1924268.63, 'Dota 2'), ('bLink', 'China', 1960761.59, 1960761.59, 'Dota 2'), ('psalm', 'United States', 1959500.0, 1874588.8, 'Fortnite'), ('HuaHai', 'China', 1941993.39, 1941993.39, 'Arena of Valor'), ('Magisk', 'Denmark', 1930723.63, 1881123.63, 'Counter-Strike: Global Offensive'), ('NothingToSay', 'Malaysia', 1927694.93, 1927694.93, 'Dota 2'), ('gla1ve', 'Denmark', 1926412.09, 1869687.1, 'Counter-Strike: Global Offensive'), ('aBeZy', 'United States', 1877655.68, 483750.0, 'Call of Duty: Black Ops Cold War'), ('xiao8', 'China', 1877518.06, 1870077.43, 'Dota 2'), ('MidOne', 'Malaysia', 1876531.44, 1876531.44, 'Dota 2'), ('Yinuo', 'China', 1871202.59, 1871202.59, 'Arena of Valor'), ('kpii', 'Australia', 1865667.57, 1865667.57, 'Dota 2'), ('Quinn', 'United States', 1863470.27, 1862170.27, 'Dota 2'), ('EpikWhale', 'United States', 1838487.32, 1838487.32, 'Fortnite'), ('Simp', 'United States', 1825078.33, 500833.33, 'Call of Duty: Black Ops Cold War'), ('Noone', 'Ukraine', 1824799.78, 1824799.78, 'Dota 2'), ('Faker', 'Korea, Republic of', 1816084.56, 1816084.56, 'League of Legends'), ('rain', 'Norway', 1813516.24, 1444216.24, 'Counter-Strike: Global Offensive'), ('iceiceice', 'Singapore', 1812855.42, 1810455.42, 'Dota 2'), ('Fly', 'China', 1767497.6, 1767497.6, 'Arena of Valor'), ('Faith', 'China', 1764633.21, 1746056.72, 'Dota 2'), ('Super', 'China', 1764310.33, 1744279.68, 'Dota 2'), ('Hao', 'China', 1761674.53, 1755233.44, 'Dota 2'), ('Twistzz', 'Canada', 1759193.1, 1546793.1, 'Counter-Strike: Global Offensive'), ('9pasha', 'Russian Federation', 1733385.13, 1733385.13, 'Dota 2'), ('s1mple', 'Ukraine', 1719755.32, 1718355.32, 'Counter-Strike: Global Offensive'), ('Cat', 'China', 1716947.58, 1716947.58, 'Arena of Valor'), ('Larl', 'Russian Federation', 1696224.07, 1696224.07, 'Dota 2'), ('Pang', 'China', 1682659.41, 1682659.41, 'Arena of Valor'), ('Cellium', 'United States', 1669298.93, 488750.0, 'Call of Duty: Black Ops Cold War'), ('Serral', 'Finland', 1657260.57, 1657260.57, 'StarCraft II'), ('1dao', 'China', 1656199.27, 1656199.27, 'Arena of Valor'), ('electroNic', 'Russian Federation', 1637675.34, 1558058.67, 'Counter-Strike: Global Offensive'), ('apEX', 'France', 1635789.47, 1298119.05, 'Counter-Strike: Global Offensive'), ('NiKo', 'Bosnia and Herzegovina', 1633260.15, 1301037.58, 'Counter-Strike: Global Offensive'), ('Yu', 'China', 1626161.52, 1626161.52, 'Arena of Valor'), ('Anas', 'Denmark', 1622990.05, 1622990.05, 'Fortnite'), ('old eLeVeN', 'China', 1570503.07, 1570503.07, 'Dota 2'), ('ropz', 'Estonia', 1550827.41, 1181527.41, 'Counter-Strike: Global Offensive'), ('Nyhrox', 'Norway', 1543145.69, 1543145.69, 'Fortnite'), ('Monet', 'China', 1535720.98, 1535720.98, 'Dota 2'), ('QingRong', 'China', 1535223.32, 1535223.32, 'Arena of Valor'), ('LaNm', 'China', 1529400.71, 1528948.03, 'Dota 2')]\n"
     ]
    }
   ],
   "source": [
    "# Changing datatype of numerical values to float\n",
    "# for i in range(len(earnings_total_overall_list)):\n",
    "#     change_total_overall = earnings_total_overall_list[i].replace('$', '').replace(',','')\n",
    "#     earnings_total_overall_list[i] = float(change_total_overall)\n",
    "\n",
    "#     change_total_game = earnings_from_highest_paying_game_list[i].replace('$', '').replace(',','')\n",
    "#     earnings_from_highest_paying_game_list[i] = float(change_total_game)\n",
    "\n",
    "#result = dict(zip(players_list, earnings_list))\n",
    "details = list(zip(players_list, players_country_list, earnings_total_overall_list, earnings_from_highest_paying_game_list, highest_paying_game_list))\n",
    "print(details)"
   ]
  },
  {
   "cell_type": "code",
   "execution_count": 52,
   "metadata": {},
   "outputs": [
    {
     "name": "stdout",
     "output_type": "stream",
     "text": [
      "('N0tail', 'Denmark', 7184163.05, 7172436.83, 'Dota 2')\n",
      "N0tail\n",
      "Denmark\n",
      "7184163.05\n",
      "7172436.83\n",
      "Dota 2\n"
     ]
    }
   ],
   "source": [
    "print(details[0])\n",
    "print(details[0][0])\n",
    "print(details[0][1])\n",
    "print(details[0][2])\n",
    "print(details[0][3])\n",
    "print(details[0][4])"
   ]
  },
  {
   "cell_type": "code",
   "execution_count": null,
   "metadata": {},
   "outputs": [],
   "source": []
  }
 ],
 "metadata": {
  "kernelspec": {
   "display_name": "Python 3",
   "language": "python",
   "name": "python3"
  },
  "language_info": {
   "codemirror_mode": {
    "name": "ipython",
    "version": 3
   },
   "file_extension": ".py",
   "mimetype": "text/x-python",
   "name": "python",
   "nbconvert_exporter": "python",
   "pygments_lexer": "ipython3",
   "version": "3.10.11"
  },
  "orig_nbformat": 4
 },
 "nbformat": 4,
 "nbformat_minor": 2
}
